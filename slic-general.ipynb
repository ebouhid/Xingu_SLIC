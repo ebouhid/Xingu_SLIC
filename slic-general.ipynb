{
 "cells": [
  {
   "cell_type": "code",
   "execution_count": 1,
   "metadata": {},
   "outputs": [],
   "source": [
    "from glob import glob\n",
    "from skimage.segmentation import slic\n",
    "from PIL import Image\n",
    "import numpy as np"
   ]
  },
  {
   "cell_type": "code",
   "execution_count": 2,
   "metadata": {},
   "outputs": [],
   "source": [
    "slics = []\n",
    "N_SEGMENTS = 4000\n",
    "MAX_ITER = 10"
   ]
  },
  {
   "cell_type": "code",
   "execution_count": 4,
   "metadata": {},
   "outputs": [
    {
     "name": "stdout",
     "output_type": "stream",
     "text": [
      "Generating slic for image #1\n",
      "Generating slic for image #2\n",
      "Generating slic for image #3\n",
      "Generating slic for image #4\n",
      "Generating slic for image #5\n",
      "Generating slic for image #6\n",
      "Generating slic for image #7\n",
      "Generating slic for image #8\n",
      "Generating slic for image #9\n",
      "Generating slic for image #10\n"
     ]
    }
   ],
   "source": [
    "pca_paths = sorted(glob('scenes_pca/*'))\n",
    "truth_paths = sorted(glob('truth_masks/*'))\n",
    "for idx, path in enumerate(pca_paths):\n",
    "    pca = np.load(path)\n",
    "    truth = np.load(truth_paths[idx])\n",
    "    \n",
    "    mask = np.where(((truth != 0) & (truth != 255)), 1, 0) * 255\n",
    "\n",
    "    print(f'Generating slic for image #{idx + 1}')\n",
    "    slic_results = slic(pca, n_segments=N_SEGMENTS, max_num_iter=MAX_ITER, mask=mask.squeeze(), convert2lab=True)\n",
    "\n",
    "    slics.append(slic_results)"
   ]
  },
  {
   "cell_type": "code",
   "execution_count": 5,
   "metadata": {},
   "outputs": [
    {
     "name": "stdout",
     "output_type": "stream",
     "text": [
      "saved: slic_x01.npy\n",
      "saved: slic_x02.npy\n",
      "saved: slic_x03.npy\n",
      "saved: slic_x04.npy\n",
      "saved: slic_x05.npy\n",
      "saved: slic_x06.npy\n",
      "saved: slic_x07.npy\n",
      "saved: slic_x08.npy\n",
      "saved: slic_x09.npy\n",
      "saved: slic_x10.npy\n"
     ]
    }
   ],
   "source": [
    "for idx, slic in enumerate(slics):\n",
    "    np.save(f'slics/slic_x{idx + 1 :02d}.npy', slic)\n",
    "    print(f'saved: slic_x{idx + 1 :02d}.npy')"
   ]
  },
  {
   "cell_type": "code",
   "execution_count": 6,
   "metadata": {},
   "outputs": [],
   "source": [
    "def get_hor(segment):\n",
    "    # flattening segment\n",
    "    segment = segment.flatten()\n",
    "\n",
    "\n",
    "    NFP = np.count_nonzero(segment == 170)\n",
    "    NP = np.count_nonzero(segment) # desconsiderando o fundo\n",
    "    NNP = NP - NFP\n",
    "\n",
    "    HoR = max([NFP, NNP]) / NP\n",
    "\n",
    "    return HoR"
   ]
  }
 ],
 "metadata": {
  "kernelspec": {
   "display_name": "torch",
   "language": "python",
   "name": "python3"
  },
  "language_info": {
   "codemirror_mode": {
    "name": "ipython",
    "version": 3
   },
   "file_extension": ".py",
   "mimetype": "text/x-python",
   "name": "python",
   "nbconvert_exporter": "python",
   "pygments_lexer": "ipython3",
   "version": "3.10.8"
  },
  "orig_nbformat": 4
 },
 "nbformat": 4,
 "nbformat_minor": 2
}
